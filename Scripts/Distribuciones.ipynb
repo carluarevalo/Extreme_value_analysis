{
 "cells": [
  {
   "cell_type": "markdown",
   "metadata": {},
   "source": [
    "## Tipos de Distribuciones Extremas"
   ]
  },
  {
   "cell_type": "markdown",
   "metadata": {},
   "source": [
    "|Name|Type|Eq|\n",
    "|--|--|--|\n",
    "|**Gumbel**|$$\\Large I$$|$$\\Large G(z) =\n",
    "\\begin{cases}\n",
    "    exp\\left\\{-exp \\left[ - \\left(\\frac {z-b}{a} \\right) \\right]\\right\\}, & -\\infty < z < \\infty \\\\\n",
    "\\end{cases}$$|\n",
    "|**Fréchet**|$$\\Large II$$|$$\\Large G(z) = \n",
    "\\begin{cases}\n",
    "    0, & z \\leq b \\\\\n",
    "    exp\\left\\{- \\left(\\frac {z-b}{a} \\right)^{-\\alpha} \\right\\}, & z > b\n",
    "\\end{cases} $$|\n",
    "|**Weibull**|$$\\Large III$$|$$\\Large G(z) = \n",
    "\\begin{cases}\n",
    "    exp\\left\\{- \\left[ - \\left(\\frac {z-b}{a} \\right)^{\\alpha}\\right] \\right\\}, & z < b \\\\\n",
    "    1,  & z \\geq b\n",
    "\\end{cases} $$|"
   ]
  },
  {
   "cell_type": "markdown",
   "metadata": {},
   "source": [
    "> $a,b,\\alpha > 0$"
   ]
  },
  {
   "cell_type": "markdown",
   "metadata": {},
   "source": [
    "## Generalized Extreme Value (GEV) distribution"
   ]
  },
  {
   "cell_type": "markdown",
   "metadata": {},
   "source": [
    "$$\\Large G(z) =  exp\\left\\{- \\left[1 + \\xi \\left(\\frac {z-\\mu}{\\sigma} \\right)^{- \\frac 1 \\xi}\\right] \\right\\}$$"
   ]
  },
  {
   "cell_type": "markdown",
   "metadata": {},
   "source": [
    ">$\\large \\mu$: Location param \n",
    ">\n",
    ">$\\large \\sigma$: Scale param \n",
    ">\n",
    ">$\\large \\xi$: Shape param "
   ]
  },
  {
   "cell_type": "code",
   "execution_count": null,
   "metadata": {},
   "outputs": [],
   "source": []
  },
  {
   "cell_type": "code",
   "execution_count": null,
   "metadata": {},
   "outputs": [],
   "source": []
  },
  {
   "cell_type": "code",
   "execution_count": null,
   "metadata": {},
   "outputs": [],
   "source": []
  }
 ],
 "metadata": {
  "jupytext": {
   "formats": "ipynb,Rmd"
  },
  "kernelspec": {
   "display_name": "R",
   "language": "R",
   "name": "ir"
  },
  "language_info": {
   "codemirror_mode": "r",
   "file_extension": ".r",
   "mimetype": "text/x-r-source",
   "name": "R",
   "pygments_lexer": "r",
   "version": "3.6.3"
  }
 },
 "nbformat": 4,
 "nbformat_minor": 4
}
