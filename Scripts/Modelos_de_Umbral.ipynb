{
 "cells": [
  {
   "cell_type": "raw",
   "metadata": {},
   "source": [
    "---\n",
    "title: \"Modelos de Umbral\"\n",
    "author: \"jack\"\n",
    "date: \"8/7/2020\"\n",
    "output: html_document\n",
    "---"
   ]
  },
  {
   "cell_type": "markdown",
   "metadata": {},
   "source": [
    "# Modelos de Umbral"
   ]
  },
  {
   "cell_type": "code",
   "execution_count": null,
   "metadata": {},
   "outputs": [],
   "source": []
  },
  {
   "cell_type": "markdown",
   "metadata": {},
   "source": [
    "Modelar **por bloques** como asume GEV hace **uso poco eficiente de los datos** de existir un grado 'más fino' de valores históricos máximos (ej: máxima diaria)\n",
    "\n",
    "Al elegir un único máximo por cada bloque, perdemos la oportunidad de capturar cualquier otro máximo similar en el mismo bloque, o inyectamos valores poco informativos para bloques sin máximos relevantes. \n",
    "\n",
    "![gev-vs-pot](https://cdn.analystprep.com/study-notes/wp-content/uploads/2019/10/25114612/page-43.jpg)"
   ]
  },
  {
   "cell_type": "markdown",
   "metadata": {},
   "source": [
    "Formalmente,\n",
    "\n",
    "Sean $\\normalsize X_1, X_2, \\dots , X_m$ una secuencia de variables aleatorias independientes e identicamente distribuídas, con distribución $\\normalsize X_1 \\sim F$\n",
    "\n",
    "Podemos definir a la distribución de los valores extremos como:\n",
    "\n",
    "$$\\large P\\left( X_i > u + y \\ |\\   X > u \\right) = \\frac {1 - F(u + y)}{1-F(u)}$$\n",
    "\n",
    "con\n",
    "> $\\normalsize u$ umbral,\n",
    ">\n",
    "> $\\normalsize y > 0$ distancia a $\\normalsize u$\n",
    ">\n",
    "> para cualquier $\\normalsize X_i \\sim F$\n",
    "\n",
    "Notar que el cociente es simplemente la relación entre el **area a derecha de un valor $\\normalsize y$ por encima del umbral**, dividido por el **área a derecha del umbral**  $\\normalsize u$ para la densidad de $\\normalsize F$"
   ]
  },
  {
   "cell_type": "markdown",
   "metadata": {},
   "source": [
    "Solo bastaría conocer $\\normalsize F$ para calcular la distribución de excesos.\n",
    "\n",
    "En general, $\\normalsize F$ es una distribución **no conocida** que debemos aproximar a partir de los datos."
   ]
  },
  {
   "cell_type": "markdown",
   "metadata": {},
   "source": [
    "# Modelos Asintóticos:\n",
    "## Distribución Pareto Generalizada (GPD)"
   ]
  },
  {
   "cell_type": "markdown",
   "metadata": {},
   "source": [
    "Asumiendo las mismas hipótesis que en GEV, la distribución de excesos por sobre un umbral $\\normalsize u$, está dada por:\n",
    "\n",
    "$$\\Large H_{\\sigma,\\xi}(y) = \n",
    "\\begin{cases}\n",
    "    1 - \\left( 1 + \\frac{\\xi}{\\sigma} \\ y \\right)^{- \\frac 1 \\xi}, & \\text{si}\\ \\  \\xi \\neq 0 \\\\\n",
    "    1 - e^{- \\frac y \\sigma}, & \\text{si}\\ \\  \\xi = 0\n",
    "\\end{cases} $$\n",
    "\n",
    "> con $\\normalsize y > 0$, valor por encima el umbral."
   ]
  },
  {
   "cell_type": "markdown",
   "metadata": {},
   "source": [
    "$\\normalsize \\xi$, llamado ***parámetro de forma***, mantiene el mismo valor al ajustar los parámetros con GEV, y en ambos casos se cumple que:\n",
    "\n",
    "> Si $\\normalsize \\xi < 0$:\n",
    "> * la distribución de excesos tiene **cota superior** dada por: $\\normalsize u - \\frac \\sigma \\xi$\n",
    "\n",
    "> Si $\\normalsize \\xi > 0$:\n",
    "> * la distribución de excesos **no tiene cota superior**.\n",
    "\n",
    "> Si $\\normalsize \\xi = 0$:\n",
    "> * la distribución de excesos **no tiene cota superior** y se reduce a una distribución $\\normalsize \\text{Exponencial}\\left(\\frac 1 \\sigma \\right)$"
   ]
  },
  {
   "cell_type": "markdown",
   "metadata": {},
   "source": [
    "### Caso particular: Exponencial\n",
    "\n",
    "**Para pensar:** \n",
    "\n",
    "> ¿A qué distribución corresponderá la cola de valores por encima de un umbral $u$?\n",
    "\n",
    "Volviendo a la distribución de valores extremos de la primera parte y si elegimos $F$ como Exponencial\n",
    "\n",
    "Si\n",
    "> $\\normalsize F(x) = 1 - e^{-x}$,\n",
    ">\n",
    ">para $\\normalsize x > 0$\n",
    "\n",
    "Entonces:\n",
    "\n",
    "$$\\large \\begin{align}\n",
    "P\\left( X_i > u + y \\ |\\   X > u \\right) &= \\frac {1 - F(u + y)}{1-F(u)}\\\\\\\\\n",
    "&= \\frac {e^{-(u+y)}}{e^{-u}}\\\\\\\\\n",
    "&= e^{-y}\n",
    "\\end{align}$$"
   ]
  },
  {
   "cell_type": "markdown",
   "metadata": {},
   "source": [
    "De forma que la distribución de extremos de las variables aleatorias Xi con distribución exponencial, es a su vez exponencial, lo que se explica también por la [**propiedad de pérdida de memoria** de la distribución Exponencial](https://en.wikipedia.org/wiki/Memorylessness).\n",
    "\n",
    "Notar que esta función se corresponde con el caso particular de la distribución generalizada de Pareto, con $\\xi=0$ y $\\sigma=1$\n",
    "\n"
   ]
  },
  {
   "cell_type": "markdown",
   "metadata": {},
   "source": [
    "## Eligiendo el Umbral\n",
    "\n"
   ]
  },
  {
   "cell_type": "markdown",
   "metadata": {},
   "source": [
    "Anteriormente vimos que los excesos sobre el umbral $u$ se pueden considerar variables a aleatorias, cuya distribución se puede aproximar por algún miembro de la familia Pareto generalizada.\n",
    "\n",
    "Pero elegir este umbral requiere de dos cosas:\n",
    "\n",
    "1. Un análisis del ***balance entre Sesgo y Varianza***, de la misma forma que hacía elegir el tamaño del bloque en GEV:\n",
    "\n",
    "  * Un **umbral muy bajo** puede hacer perder la base asintótica del modelo, produciendo un **sesgo**.\n",
    "  * Un **umbral muy alto** producirá pocas observaciones por encima del mismo, produciendo **varianza** alta.\n",
    "\n",
    "\n",
    "2. Estabilidad de los parámetros estimados a medida que modificamos u."
   ]
  },
  {
   "cell_type": "markdown",
   "metadata": {},
   "source": [
    "## Estimación Paramétrica\n",
    "\n",
    "Una vez elegido el umbral, podemos usar Máxima Verosimilitud para estimar los parámetros de la distribución Pareto.\n",
    "\n",
    "Donde:\n",
    "\n",
    "> $$\\Large \\ell (\\sigma, \\xi) = - k \\log \\sigma - (1 + \\frac 1 \\xi) \\ \\sum_{i=0}^k \\log (1 + \\frac \\xi \\sigma y_i)$$\n",
    "\n",
    "Y en el caso de $\\xi=0$ se reduce a:\n",
    "> $$\\Large \\ell_{\\xi=0}(\\sigma) = - k \\log \\sigma - \\sigma^{-1} \\ \\sum_{i=1}^k y_i$$\n",
    "\n",
    "**No es posible** maximizar estas funciones de manera analítica, por lo que debe recurrirse a métodos numéricos (evitando posibles inestabilidades cuando $\\xi \\approx 0$)"
   ]
  },
  {
   "cell_type": "markdown",
   "metadata": {},
   "source": [
    "## Verificación Gráfica\n",
    "\n",
    "* Si el modelo Pareto modela correctamente los excesos sobre $u$, entonces tanto los gráficos de probabilidad acumulada como cuantiles, deberían consistir en puntos aproximadamente lineales.\n",
    "\n",
    "* También puede realizarse el histograma de los excesos por encima del umbral, y graficar encima la función de densidad de la familia Pareto con los parámetros optimizados. "
   ]
  }
 ],
 "metadata": {
  "jupytext": {
   "formats": "ipynb,Rmd"
  },
  "kernelspec": {
   "display_name": "R [conda env:r] *",
   "language": "R",
   "name": "conda-env-r-r"
  },
  "language_info": {
   "codemirror_mode": "r",
   "file_extension": ".r",
   "mimetype": "text/x-r-source",
   "name": "R",
   "pygments_lexer": "r",
   "version": "3.6.3"
  }
 },
 "nbformat": 4,
 "nbformat_minor": 4
}
